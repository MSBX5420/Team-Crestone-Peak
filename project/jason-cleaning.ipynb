{
 "cells": [
  {
   "cell_type": "code",
   "execution_count": 2,
   "metadata": {},
   "outputs": [],
   "source": [
    "# create entry points to spark\n",
    "try:\n",
    "    sc.stop()\n",
    "except:\n",
    "    pass\n",
    "from pyspark import SparkContext, SparkConf\n",
    "from pyspark.sql import SparkSession\n",
    "sc=SparkContext()\n",
    "spark = SparkSession(sparkContext=sc)"
   ]
  },
  {
   "cell_type": "code",
   "execution_count": 5,
   "metadata": {},
   "outputs": [],
   "source": [
    "data = spark.read.csv('news.csv', header=True)"
   ]
  },
  {
   "cell_type": "code",
   "execution_count": 14,
   "metadata": {},
   "outputs": [
    {
     "name": "stdout",
     "output_type": "stream",
     "text": [
      "+---+--------------------+--------------------+--------------------+--------------------+--------------------+--------------------+\n",
      "|_c0|             authors|               title|        publish_date|         description|                text|                 url|\n",
      "+---+--------------------+--------------------+--------------------+--------------------+--------------------+--------------------+\n",
      "|  0|        ['Cbc News']|Coronavirus a 'wa...| 2020-03-27 08:00:00|Canadian pharmaci...|\"Canadian pharmac...|\"\" he said.  Tadr...|\n",
      "|  1|        ['Cbc News']|Yukon gov't names...| 2020-03-27 01:45:00|The Yukon governm...|\"The Yukon govern...|  from March 9 to 13|\n",
      "|  2|['The Associated ...|U.S. Senate passe...| 2020-03-26 05:13:00|The Senate has pa...|\"The Senate late ...|\"\" said Democrati...|\n",
      "|  3|        ['Cbc News']|Coronavirus: The ...| 2020-03-27 00:36:00|Scientists around...|\"Scientists aroun...| \"\" said Zarychanski|\n",
      "|  4|        ['Cbc News']|The latest on the...| 2020-03-26 20:57:00|The latest on the...|\"    Trudeau says...|\"\" Prime Minister...|\n",
      "|  5|['Mark Gollom Is ...|'Worse' pandemic ...| 2020-03-27 08:00:00|The continued exi...|\"The continued ex...| there is nothing...|\n",
      "|  6|        ['Cbc News']|What you need to ...| 2020-03-27 08:00:00|CBC Ottawa's late...|Recent developmen...|https://www.cbc.c...|\n",
      "|  7|['The Associated ...|Michigan hospital...| 2020-03-26 11:02:00|Michigan hospital...|Michigan hospital...|https://www.cbc.c...|\n",
      "|  8| ['Thomson Reuters']|U.S. coronavirus ...| 2020-03-26 14:55:00|The number of con...|\"The number of co...| the EPA does not...|\n",
      "|  9|['Leah Hendry Is ...|'Avoid the emerge...| 2020-03-27 08:00:00|Montreal's Jewish...|\"The Jewish Gener...|\"\" said Dupuis. \"...|\n",
      "| 10|['Reporter', 'Web...|COVID-19 in Sask:...| 2020-03-26 14:18:00|The Saskatchewan ...|\" Three Saskatche...| 2020 between 2 p...|\n",
      "| 11|\"['Jorge Barrera ...| 'Jorgebarrera Or...|            'Follow'| 'Jorgebarrera On...|Manitoba chiefs o...| 2020-03-27 08:01:00|\n",
      "| 12|['Colleen M. Floo...|How invoking the ...| 2020-03-27 08:00:00|Under the Emergen...|\"This column is a...|                test|\n",
      "| 14|\"['Producer', 'Cb...| 'As The Late Lin...| 'James Dunne On ...|In Ontario, const...| 2020-03-27 08:00:00|Construction is o...|\n",
      "| 15|['Dan Mcgarvey Is...|Alberta's film in...| 2020-03-26 12:00:00|Alberta’s TV and ...|\"Alberta's TV and...|\"\" said Robert Hi...|\n",
      "| 16|\"['Cbc News New Y...| 'The World Cup I...| 'He Spent Eight ...| 'The Rob Ford Cr...|'Like a war zone'...| 2020-03-27 08:00:00|\n",
      "| 17|                  []|N.L. fisheries re...| 2020-03-27 08:30:00|A Memorial Univer...|\"A Memorial Unive...|\"\" said Chuenpagd...|\n",
      "| 18|                  []|1st death, 3 new ...| 2020-03-11 00:15:00|Here's today's in...|\"Manitoba is unde...|\"\" Roussin said o...|\n",
      "| 19|\"['Investigative ...| 'Caroline.Bargho...|         'Twitter']\"|Medical experts w...| 2020-03-26 08:00:00|Medical experts a...|\n",
      "| 20|['Hadeel Ibrahim ...|It's 'too late' f...| 2020-03-27 08:00:00|New Brunswick has...|\"New Brunswick ha...| a province could...|\n",
      "+---+--------------------+--------------------+--------------------+--------------------+--------------------+--------------------+\n",
      "only showing top 20 rows\n",
      "\n"
     ]
    }
   ],
   "source": [
    "data.show()"
   ]
  },
  {
   "cell_type": "code",
   "execution_count": null,
   "metadata": {},
   "outputs": [],
   "source": []
  }
 ],
 "metadata": {
  "kernelspec": {
   "display_name": "Python 3",
   "language": "python",
   "name": "python3"
  },
  "language_info": {
   "codemirror_mode": {
    "name": "ipython",
    "version": 3
   },
   "file_extension": ".py",
   "mimetype": "text/x-python",
   "name": "python",
   "nbconvert_exporter": "python",
   "pygments_lexer": "ipython3",
   "version": "3.7.4"
  }
 },
 "nbformat": 4,
 "nbformat_minor": 2
}
