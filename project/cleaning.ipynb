{
 "cells": [
  {
   "cell_type": "markdown",
   "metadata": {},
   "source": [
    "# Load Data"
   ]
  },
  {
   "cell_type": "code",
   "execution_count": 94,
   "metadata": {},
   "outputs": [],
   "source": [
    "# show all output from a cell\n",
    "from IPython.core.interactiveshell import InteractiveShell\n",
    "InteractiveShell.ast_node_interactivity = \"all\"\n",
    "\n",
    "# import packages\n",
    "from pyspark import SparkContext\n",
    "from pyspark.sql import SparkSession, SQLContext\n",
    "from pyspark.sql.functions import *\n",
    "from pyspark.sql.types import DateType\n",
    "\n",
    "# set spark contexts\n",
    "sc = spark.sparkContext\n",
    "sql_sc = SQLContext(sc)\n",
    "spark = SparkSession.builder.getOrCreate()\n",
    "\n",
    "import pandas as pd\n",
    "import string\n",
    "import re\n",
    "import nltk\n",
    "# !pip install --pre langid\n",
    "import langid\n",
    "import matplotlib.pyplot as plt"
   ]
  },
  {
   "cell_type": "code",
   "execution_count": 2,
   "metadata": {},
   "outputs": [
    {
     "data": {
      "text/plain": [
       "['index', 'authors', 'title', 'publish_date', 'description', 'text', 'url']"
      ]
     },
     "execution_count": 2,
     "metadata": {},
     "output_type": "execute_result"
    },
    {
     "name": "stdout",
     "output_type": "stream",
     "text": [
      "root\n",
      " |-- index: string (nullable = true)\n",
      " |-- authors: string (nullable = true)\n",
      " |-- title: string (nullable = true)\n",
      " |-- publish_date: date (nullable = true)\n",
      " |-- description: string (nullable = true)\n",
      " |-- text: string (nullable = true)\n",
      " |-- url: string (nullable = true)\n",
      "\n"
     ]
    },
    {
     "data": {
      "text/plain": [
       "3566"
      ]
     },
     "execution_count": 2,
     "metadata": {},
     "output_type": "execute_result"
    },
    {
     "data": {
      "text/plain": [
       "3566"
      ]
     },
     "execution_count": 2,
     "metadata": {},
     "output_type": "execute_result"
    },
    {
     "name": "stdout",
     "output_type": "stream",
     "text": [
      "+-----+--------+--------------------+------------+--------------------+--------------------+--------------------+\n",
      "|index| authors|               title|publish_date|         description|                text|                 url|\n",
      "+-----+--------+--------------------+------------+--------------------+--------------------+--------------------+\n",
      "|    0|Cbc News|Coronavirus a 'wa...|  2020-03-27|Canadian pharmaci...|Canadian pharmaci...|https://www.cbc.c...|\n",
      "|    1|Cbc News|Yukon gov't names...|  2020-03-27|The Yukon governm...|The Yukon governm...|https://www.cbc.c...|\n",
      "+-----+--------+--------------------+------------+--------------------+--------------------+--------------------+\n",
      "only showing top 2 rows\n",
      "\n"
     ]
    }
   ],
   "source": [
    "# load data\n",
    "df = spark.read.format('csv').option('escape',\"\\\"\").option('header',True).load('../Project/news.csv')\n",
    "# newsdfpd = pd.read_csv('news.csv') \n",
    "# newsdf = sql_sc.createDataFrame(newsdfpd) # method 2 - convert pandas df to spark df\n",
    "\n",
    "\n",
    "# delete [''] in author column\n",
    "df = df.withColumn('authors', regexp_replace('authors', \"(^\\\\[')\", ''))\n",
    "df = df.withColumn('authors', regexp_replace('authors', \"('\\\\])\", ''))\n",
    "# change publish_date from string to date\n",
    "df = df.withColumn('publish_date', df['publish_date'].cast(DateType()))\n",
    "\n",
    "# change col names\n",
    "newcolnamelist = list(map(lambda x:x.replace('_c0','index'), df.columns))\n",
    "df = df.toDF(*newcolnamelist)\n",
    "\n",
    "# show columns info\n",
    "df.columns\n",
    "df.printSchema()\n",
    "\n",
    "# check if there is na for column descriptiona and text\n",
    "df.count()\n",
    "df.dropna(subset=['description', 'text']).count()\n",
    "\n",
    "# show top two rows of df\n",
    "df.show(2)"
   ]
  },
  {
   "cell_type": "markdown",
   "metadata": {},
   "source": [
    "# Simple Word Count"
   ]
  },
  {
   "cell_type": "code",
   "execution_count": 75,
   "metadata": {},
   "outputs": [
    {
     "name": "stdout",
     "output_type": "stream",
     "text": [
      "Total word count: 2526917\n",
      "Unique word count: 116920\n",
      "[('are', 20485), ('limiting', 262), ('try', 580), ('prevent', 927), ('recognizing', 19), ('active', 93), ('ingredients', 38), ('India', 68), ('China', 2029), ('medical', 2472), ('have', 16521), ('of', 60052), ('COVID-19.', 1669), ('regulatory', 30), ('complying', 24), ('Pharmacists', 18), ('call', 1255), ('amount', 225), ('medications', 64), ('patients', 1390)]\n"
     ]
    }
   ],
   "source": [
    "# convert the text column to rdd format\n",
    "text_rdd = df.select('text').rdd.map(list)\n",
    "\n",
    "# split texts into words\n",
    "splitted_word_rdd = text_rdd.flatMap(lambda line: line[0].split(' '))\n",
    "\n",
    "# count word\n",
    "print('Total word count:', text_word_rdd.count())\n",
    "\n",
    "# mark each word to 1\n",
    "word_map_rdd = splitted_word_rdd.map(lambda word: (word, 1))\n",
    "\n",
    "# count words\n",
    "word_count_rdd = word_map_rdd.reduceByKey(lambda a, b: a + b)\n",
    "\n",
    "# count unique words\n",
    "print('Unique word count:', word_count_rdd.count())\n",
    "\n",
    "\n",
    "# show result of word count\n",
    "word_count_list = word_count_rdd.collect()\n",
    "print(word_count_list[0:20])"
   ]
  },
  {
   "cell_type": "markdown",
   "metadata": {},
   "source": [
    "# NLP"
   ]
  },
  {
   "cell_type": "markdown",
   "metadata": {},
   "source": [
    "## Text Preprocessing"
   ]
  },
  {
   "cell_type": "code",
   "execution_count": 75,
   "metadata": {},
   "outputs": [
    {
     "name": "stderr",
     "output_type": "stream",
     "text": [
      "[nltk_data] Downloading package stopwords to\n",
      "[nltk_data]     /Users/kcapple/nltk_data...\n",
      "[nltk_data]   Package stopwords is already up-to-date!\n"
     ]
    },
    {
     "data": {
      "text/plain": [
       "True"
      ]
     },
     "execution_count": 75,
     "metadata": {},
     "output_type": "execute_result"
    },
    {
     "name": "stderr",
     "output_type": "stream",
     "text": [
      "[nltk_data] Downloading package punkt to /Users/kcapple/nltk_data...\n",
      "[nltk_data]   Package punkt is already up-to-date!\n"
     ]
    },
    {
     "data": {
      "text/plain": [
       "True"
      ]
     },
     "execution_count": 75,
     "metadata": {},
     "output_type": "execute_result"
    },
    {
     "name": "stderr",
     "output_type": "stream",
     "text": [
      "[nltk_data] Downloading package averaged_perceptron_tagger to\n",
      "[nltk_data]     /Users/kcapple/nltk_data...\n",
      "[nltk_data]   Package averaged_perceptron_tagger is already up-to-\n",
      "[nltk_data]       date!\n"
     ]
    },
    {
     "data": {
      "text/plain": [
       "True"
      ]
     },
     "execution_count": 75,
     "metadata": {},
     "output_type": "execute_result"
    },
    {
     "name": "stderr",
     "output_type": "stream",
     "text": [
      "[nltk_data] Downloading package wordnet to /Users/kcapple/nltk_data...\n",
      "[nltk_data]   Package wordnet is already up-to-date!\n"
     ]
    },
    {
     "data": {
      "text/plain": [
       "True"
      ]
     },
     "execution_count": 75,
     "metadata": {},
     "output_type": "execute_result"
    },
    {
     "name": "stderr",
     "output_type": "stream",
     "text": [
      "[nltk_data] Downloading package vader_lexicon to\n",
      "[nltk_data]     /Users/kcapple/nltk_data...\n"
     ]
    },
    {
     "data": {
      "text/plain": [
       "True"
      ]
     },
     "execution_count": 75,
     "metadata": {},
     "output_type": "execute_result"
    }
   ],
   "source": [
    "import nltk\n",
    "nltk.download('stopwords')\n",
    "nltk.download('punkt')\n",
    "nltk.download('averaged_perceptron_tagger')\n",
    "nltk.download('wordnet')\n",
    "nltk.download('vader_lexicon')"
   ]
  },
  {
   "cell_type": "code",
   "execution_count": 64,
   "metadata": {},
   "outputs": [],
   "source": [
    "# functions for text preprocessing\n",
    "\n",
    "def sent_tokenize_funct(x):\n",
    "    return nltk.sent_tokenize(x)\n",
    "\n",
    "def word_tokenize_funct(x):\n",
    "    splitted = [word for line in x for word in line.split()]\n",
    "    return splitted\n",
    "\n",
    "def remove_stopwords_funct(x):\n",
    "    from nltk.corpus import stopwords\n",
    "    stop_words=set(stopwords.words('english'))\n",
    "    filteredSentence = [w for w in x if not w in stop_words]\n",
    "    return filteredSentence\n",
    "\n",
    "def remove_punct_funct(x):\n",
    "    list_punct=list(string.punctuation)\n",
    "    filtered = [''.join(c for c in s if c not in list_punct) for s in x] \n",
    "    filtered_space = [s for s in filtered if s] #remove empty space \n",
    "    return filtered\n",
    "\n",
    "def lemma_funct(x):\n",
    "    from nltk.stem import WordNetLemmatizer\n",
    "    lemmatizer = WordNetLemmatizer()\n",
    "    finalLem = [lemmatizer.lemmatize(s) for s in x]\n",
    "    return finalLem\n",
    "\n",
    "def join_tokens_funct(x):\n",
    "    joinedTokens_list = []\n",
    "    x = \" \".join(x)\n",
    "    return x\n",
    "\n",
    "def extract_phrase_funct(x):\n",
    "    from nltk.corpus import stopwords\n",
    "    stop_words=set(stopwords.words('english'))\n",
    "    def leaves(tree):\n",
    "        \"\"\"Finds NP (nounphrase) leaf nodes of a chunk tree.\"\"\"\n",
    "        for subtree in tree.subtrees(filter = lambda t: t.label()=='NP'):\n",
    "            yield subtree.leaves()\n",
    "    \n",
    "    def get_terms(tree):\n",
    "        for leaf in leaves(tree):\n",
    "            term = [w for w,t in leaf if not w in stop_words]\n",
    "            yield term\n",
    "    sentence_re = r'(?:(?:[A-Z])(?:.[A-Z])+.?)|(?:\\w+(?:-\\w+)*)|(?:\\$?\\d+(?:.\\d+)?%?)|(?:...|)(?:[][.,;\"\\'?():-_`])'\n",
    "    grammar = r\"\"\"\n",
    "    NBAR:\n",
    "        {<NN.*|JJ>*<NN.*>}  # Nouns and Adjectives, terminated with Nouns\n",
    "        \n",
    "    NP:\n",
    "        {<NBAR>}\n",
    "        {<NBAR><IN><NBAR>}  # Above, connected with in/of/etc...\n",
    "    \"\"\"\n",
    "    chunker = nltk.RegexpParser(grammar)\n",
    "    tokens = nltk.regexp_tokenize(x,sentence_re)\n",
    "    postoks = nltk.tag.pos_tag(tokens) #Part of speech tagging \n",
    "    tree = chunker.parse(postoks) #chunking\n",
    "    terms = get_terms(tree)\n",
    "    temp_phrases = []\n",
    "    for term in terms:\n",
    "        if len(term):\n",
    "            temp_phrases.append(' '.join(term))\n",
    "    \n",
    "    finalPhrase = [w for w in temp_phrases if w] #remove empty lists\n",
    "    return finalPhrase"
   ]
  },
  {
   "cell_type": "code",
   "execution_count": 77,
   "metadata": {},
   "outputs": [],
   "source": [
    "# create text rdd\n",
    "text_rdd = df.select('text').rdd.flatMap(lambda x: x)\n",
    "text_rdd = text_rdd.map(lambda s: s.replace(\"\\xa0\",\" \"))\n",
    "# convert text ot lower case\n",
    "lowercase_text_rdd = text_rdd.map(lambda x: x.lower())\n",
    "# tokenzie sentences\n",
    "sent_tokenize_rdd = lowercase_text_rdd.map(sent_tokenize_funct)\n",
    "# tokenzie words\n",
    "word_tokenize_rdd = sent_tokenize_rdd.map(word_tokenize_funct)\n",
    "# remove stopwrods\n",
    "rmv_stopword_rdd = word_tokenize_rdd.map(remove_stopwords_funct)\n",
    "# remove punctuations\n",
    "rmv_punct_rdd = rmv_stopword_rdd.map(remove_punct_funct)\n",
    "# lemmatization\n",
    "lemma_word_rdd = rmv_punct_rdd.map(lemma_funct)\n",
    "# join tokens\n",
    "joined_tokens_rdd = lemma_word_rdd.map(join_tokens_funct)\n",
    "# extracct phrases\n",
    "phrase_rdd = joined_tokens_rdd.map(extract_phrase_funct)"
   ]
  },
  {
   "cell_type": "markdown",
   "metadata": {},
   "source": [
    "## Word Sentiment"
   ]
  },
  {
   "cell_type": "code",
   "execution_count": 76,
   "metadata": {},
   "outputs": [],
   "source": [
    "def sentiment_word_funct(x):\n",
    "    from nltk.sentiment.vader import SentimentIntensityAnalyzer\n",
    "    analyzer = SentimentIntensityAnalyzer() \n",
    "    senti_list_temp = []\n",
    "    for i in x:\n",
    "        y = ''.join(i) \n",
    "        vs = analyzer.polarity_scores(y)\n",
    "        senti_list_temp.append((y, vs))\n",
    "        senti_list_temp = [w for w in senti_list_temp if w]\n",
    "    sentiment_list  = []\n",
    "    for j in senti_list_temp:\n",
    "        first = j[0]\n",
    "        second = j[1]\n",
    "    \n",
    "        for (k,v) in second.items():\n",
    "            if k == 'compound':\n",
    "                if v < 0.0:\n",
    "                    sentiment_list.append((first, \"Negative\"))\n",
    "                elif v == 0.0:\n",
    "                    sentiment_list.append((first, \"Neutral\"))\n",
    "                else:\n",
    "                    sentiment_list.append((first, \"Positive\"))\n",
    "    return sentiment_list\n",
    "\n",
    "\n",
    "# sentiment words and phrases\n",
    "sentiment_rdd = phrase_rdd.map(sentiment_word_funct)"
   ]
  },
  {
   "cell_type": "code",
   "execution_count": 127,
   "metadata": {},
   "outputs": [
    {
     "data": {
      "text/plain": [
       "[[('canadian pharmacy', 'Neutral'),\n",
       "  ('much medication', 'Neutral'),\n",
       "  ('prevent shortage', 'Negative'),\n",
       "  ('active ingredient drug', 'Positive'),\n",
       "  ('india china medical supply chain', 'Neutral'),\n",
       "  ('spread covid19 provincial regulatory college', 'Neutral'),\n",
       "  ('canadian pharmacist association call limit amount medication', 'Neutral'),\n",
       "  ('supply goal stop people', 'Negative'),\n",
       "  ('prescription', 'Neutral'),\n",
       "  ('drug', 'Neutral'),\n",
       "  ('short supply chain', 'Neutral'),\n",
       "  ('tadrous pharmacist researcher toronto monitor pharmaceutical supply',\n",
       "   'Neutral'),\n",
       "  ('canadian start', 'Neutral'),\n",
       "  ('drug', 'Neutral'),\n",
       "  ('unfolding u region virus spread', 'Neutral'),\n",
       "  ('pharmacist', 'Neutral'),\n",
       "  ('drug', 'Neutral'),\n",
       "  ('inhaler people', 'Neutral'),\n",
       "  ('misinformation', 'Negative'),\n",
       "  ('potential treatment covid19', 'Neutral'),\n",
       "  ('relationship people', 'Neutral'),\n",
       "  ('actual supply medication', 'Neutral'),\n",
       "  ('pharmacy', 'Neutral'),\n",
       "  ('medication supply wholesaler get distributor source manufacturer',\n",
       "   'Neutral'),\n",
       "  ('wholesaler supply chain', 'Neutral'),\n",
       "  ('canada ongoing shortage dr jacalyn duffin queen university kingston',\n",
       "   'Negative'),\n",
       "  ('frequency drug shortage', 'Negative'),\n",
       "  ('ongoing shortage none attribute coronavirus', 'Negative'),\n",
       "  ('india', 'Neutral'),\n",
       "  ('cent active ingredient prescription drug', 'Positive'),\n",
       "  ('north america', 'Neutral'),\n",
       "  ('dr jacalyn duffin ka roussycbc', 'Neutral'),\n",
       "  ('china', 'Neutral'),\n",
       "  ('cent active ingredient prescription drug', 'Positive'),\n",
       "  ('america supply disruption', 'Negative'),\n",
       "  ('coronavirus', 'Neutral'),\n",
       "  ('big wakeup call u pay attention drug shortage', 'Negative'),\n",
       "  ('attention drug', 'Neutral'),\n",
       "  ('need', 'Neutral'),\n",
       "  ('new prescription refillsnew brunswick offer relief prescription',\n",
       "   'Positive'),\n",
       "  ('india major supplier generic drug europe', 'Neutral'),\n",
       "  ('export antibiotic drug hypertension blood pressure acetaminophen duffin',\n",
       "   'Negative'),\n",
       "  ('precaution federal government', 'Neutral'),\n",
       "  ('sweeping legislation', 'Neutral'),\n",
       "  ('right force', 'Neutral'),\n",
       "  ('drugmakers', 'Neutral'),\n",
       "  ('patent part response public health emergency', 'Negative')]]"
      ]
     },
     "execution_count": 127,
     "metadata": {},
     "output_type": "execute_result"
    }
   ],
   "source": [
    "sentiment_rdd.take(1)"
   ]
  },
  {
   "cell_type": "code",
   "execution_count": null,
   "metadata": {},
   "outputs": [],
   "source": [
    "# sentiment analysis"
   ]
  },
  {
   "cell_type": "markdown",
   "metadata": {},
   "source": [
    "## Word Frequency"
   ]
  },
  {
   "cell_type": "code",
   "execution_count": 80,
   "metadata": {},
   "outputs": [],
   "source": [
    "# add requency to each word or phase\n",
    "freq_dist_RDD = phrase_rdd.flatMap(lambda x : nltk.FreqDist(x).most_common()). \\\n",
    "    map(lambda x: x).reduceByKey(lambda x,y : x+y).sortBy(lambda x: x[1], ascending = False)"
   ]
  },
  {
   "cell_type": "code",
   "execution_count": 81,
   "metadata": {},
   "outputs": [
    {
     "data": {
      "text/plain": [
       "[('people', 5171),\n",
       " ('day', 2105),\n",
       " ('case', 1903),\n",
       " ('week', 1216),\n",
       " ('canada', 1052),\n",
       " ('country', 984),\n",
       " ('province', 973),\n",
       " ('home', 815),\n",
       " ('covid19', 786),\n",
       " ('virus', 761),\n",
       " ('march', 747),\n",
       " ('coronavirus', 648),\n",
       " ('time', 630),\n",
       " ('cent', 624),\n",
       " ('year', 617),\n",
       " ('government', 598),\n",
       " ('china', 541),\n",
       " ('community', 529),\n",
       " ('month', 495),\n",
       " ('death', 478)]"
      ]
     },
     "execution_count": 81,
     "metadata": {},
     "output_type": "execute_result"
    }
   ],
   "source": [
    "freq_dist_RDD.take(20)"
   ]
  },
  {
   "cell_type": "code",
   "execution_count": 92,
   "metadata": {},
   "outputs": [
    {
     "data": {
      "text/html": [
       "<div>\n",
       "<style scoped>\n",
       "    .dataframe tbody tr th:only-of-type {\n",
       "        vertical-align: middle;\n",
       "    }\n",
       "\n",
       "    .dataframe tbody tr th {\n",
       "        vertical-align: top;\n",
       "    }\n",
       "\n",
       "    .dataframe thead th {\n",
       "        text-align: right;\n",
       "    }\n",
       "</style>\n",
       "<table border=\"1\" class=\"dataframe\">\n",
       "  <thead>\n",
       "    <tr style=\"text-align: right;\">\n",
       "      <th></th>\n",
       "      <th>keywords</th>\n",
       "      <th>frequency</th>\n",
       "    </tr>\n",
       "  </thead>\n",
       "  <tbody>\n",
       "    <tr>\n",
       "      <td>0</td>\n",
       "      <td>people</td>\n",
       "      <td>5171</td>\n",
       "    </tr>\n",
       "    <tr>\n",
       "      <td>1</td>\n",
       "      <td>day</td>\n",
       "      <td>2105</td>\n",
       "    </tr>\n",
       "    <tr>\n",
       "      <td>2</td>\n",
       "      <td>case</td>\n",
       "      <td>1903</td>\n",
       "    </tr>\n",
       "    <tr>\n",
       "      <td>3</td>\n",
       "      <td>week</td>\n",
       "      <td>1216</td>\n",
       "    </tr>\n",
       "    <tr>\n",
       "      <td>4</td>\n",
       "      <td>canada</td>\n",
       "      <td>1052</td>\n",
       "    </tr>\n",
       "  </tbody>\n",
       "</table>\n",
       "</div>"
      ],
      "text/plain": [
       "  keywords  frequency\n",
       "0   people       5171\n",
       "1      day       2105\n",
       "2     case       1903\n",
       "3     week       1216\n",
       "4   canada       1052"
      ]
     },
     "execution_count": 92,
     "metadata": {},
     "output_type": "execute_result"
    }
   ],
   "source": [
    "# converting RDD to spark dataframe\n",
    "df_freq_dist = freq_dist_RDD.toDF(['keywords','frequency'])\n",
    "# create data table\n",
    "df_freq_dist.createOrReplaceTempView(\"wordfreq\") \n",
    "# select the top 20 keywords and convert spark dataframes to pandas dataframes\n",
    "top20pddf = spark.sql(\"SELECT keywords, frequency from wordfreq limit 20\").toPandas()\n",
    "top20pddf.head()"
   ]
  },
  {
   "cell_type": "code",
   "execution_count": 125,
   "metadata": {},
   "outputs": [
    {
     "data": {
      "text/plain": [
       "Text(0.5, 0, 'Frequency')"
      ]
     },
     "execution_count": 125,
     "metadata": {},
     "output_type": "execute_result"
    },
    {
     "data": {
      "text/plain": [
       "Text(0, 0.5, 'Keywords')"
      ]
     },
     "execution_count": 125,
     "metadata": {},
     "output_type": "execute_result"
    },
    {
     "data": {
      "text/plain": [
       "Text(0.5, 1.0, 'Top 20 Keywords Frequency')"
      ]
     },
     "execution_count": 125,
     "metadata": {},
     "output_type": "execute_result"
    },
    {
     "data": {
      "image/png": "[encoded data removed]",
      "text/plain": [
       "<Figure size 864x576 with 1 Axes>"
      ]
     },
     "metadata": {
      "needs_background": "light"
     },
     "output_type": "display_data"
    }
   ],
   "source": [
    "# plot top 20 keywords\n",
    "ax = top20pddf.plot.barh(x='keywords', y='frequency',figsize=(12,8), fontsize=12, align='center',color='hotpink')\n",
    "ax.invert_yaxis()\n",
    "ax.set_xlabel('Frequency', fontsize=14)\n",
    "ax.set_ylabel('Keywords', fontsize=14)\n",
    "ax.set_title('Top 20 Keywords Frequency', fontsize=18, fontweight='bold')"
   ]
  },
  {
   "cell_type": "markdown",
   "metadata": {},
   "source": [
    "## Word Cloud"
   ]
  },
  {
   "cell_type": "code",
   "execution_count": null,
   "metadata": {},
   "outputs": [],
   "source": []
  }
 ],
 "metadata": {
  "kernelspec": {
   "display_name": "Python 3",
   "language": "python",
   "name": "python3"
  },
  "language_info": {
   "codemirror_mode": {
    "name": "ipython",
    "version": 3
   },
   "file_extension": ".py",
   "mimetype": "text/x-python",
   "name": "python",
   "nbconvert_exporter": "python",
   "pygments_lexer": "ipython3",
   "version": "3.7.4"
  }
 },
 "nbformat": 4,
 "nbformat_minor": 2
}
